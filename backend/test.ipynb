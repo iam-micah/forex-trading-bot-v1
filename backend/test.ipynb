{
 "cells": [
  {
   "cell_type": "code",
   "execution_count": 3,
   "metadata": {},
   "outputs": [],
   "source": [
    "import requests\n",
    "import defs"
   ]
  },
  {
   "cell_type": "code",
   "execution_count": 4,
   "metadata": {},
   "outputs": [],
   "source": [
    "session = requests.Session()"
   ]
  },
  {
   "cell_type": "code",
   "execution_count": 5,
   "metadata": {},
   "outputs": [],
   "source": [
    "instrument = \"EUR_USD\"\n",
    "count = 10\n",
    "granularity = \"H1\""
   ]
  },
  {
   "cell_type": "code",
   "execution_count": 6,
   "metadata": {},
   "outputs": [],
   "source": [
    "url = f'{defs.OANDA_URL}/instruments/{instrument}/candles'"
   ]
  },
  {
   "cell_type": "code",
   "execution_count": 7,
   "metadata": {},
   "outputs": [
    {
     "data": {
      "text/plain": [
       "'https://api-fxpractice.oanda.com/v3/instruments/EUR_USD/candles'"
      ]
     },
     "execution_count": 7,
     "metadata": {},
     "output_type": "execute_result"
    }
   ],
   "source": [
    "url "
   ]
  },
  {
   "cell_type": "code",
   "execution_count": 8,
   "metadata": {},
   "outputs": [],
   "source": [
    "params = dict(\n",
    "    count = count, \n",
    "    granularity = granularity,\n",
    "    price = \"MBA\"\n",
    ")"
   ]
  },
  {
   "cell_type": "code",
   "execution_count": 9,
   "metadata": {},
   "outputs": [
    {
     "data": {
      "text/plain": [
       "{'count': 10, 'granularity': 'H1', 'price': 'MBA'}"
      ]
     },
     "execution_count": 9,
     "metadata": {},
     "output_type": "execute_result"
    }
   ],
   "source": [
    "params"
   ]
  },
  {
   "cell_type": "code",
   "execution_count": 10,
   "metadata": {},
   "outputs": [],
   "source": [
    "response = session.get(url, params=params, headers=defs.SECURE_HEADER)"
   ]
  },
  {
   "cell_type": "code",
   "execution_count": 11,
   "metadata": {},
   "outputs": [
    {
     "data": {
      "text/plain": [
       "200"
      ]
     },
     "execution_count": 11,
     "metadata": {},
     "output_type": "execute_result"
    }
   ],
   "source": [
    "response.status_code"
   ]
  },
  {
   "cell_type": "code",
   "execution_count": 12,
   "metadata": {},
   "outputs": [
    {
     "data": {
      "text/plain": [
       "{'instrument': 'EUR_USD',\n",
       " 'granularity': 'H1',\n",
       " 'candles': [{'complete': True,\n",
       "   'volume': 4137,\n",
       "   'time': '2023-12-15T12:00:00.000000000Z',\n",
       "   'bid': {'o': '1.09679', 'h': '1.09688', 'l': '1.09400', 'c': '1.09426'},\n",
       "   'mid': {'o': '1.09686', 'h': '1.09695', 'l': '1.09408', 'c': '1.09434'},\n",
       "   'ask': {'o': '1.09693', 'h': '1.09703', 'l': '1.09415', 'c': '1.09441'}},\n",
       "  {'complete': True,\n",
       "   'volume': 11039,\n",
       "   'time': '2023-12-15T13:00:00.000000000Z',\n",
       "   'bid': {'o': '1.09427', 'h': '1.09477', 'l': '1.09036', 'c': '1.09158'},\n",
       "   'mid': {'o': '1.09434', 'h': '1.09484', 'l': '1.09043', 'c': '1.09165'},\n",
       "   'ask': {'o': '1.09441', 'h': '1.09491', 'l': '1.09050', 'c': '1.09172'}},\n",
       "  {'complete': True,\n",
       "   'volume': 12302,\n",
       "   'time': '2023-12-15T14:00:00.000000000Z',\n",
       "   'bid': {'o': '1.09158', 'h': '1.09277', 'l': '1.09097', 'c': '1.09189'},\n",
       "   'mid': {'o': '1.09166', 'h': '1.09285', 'l': '1.09106', 'c': '1.09196'},\n",
       "   'ask': {'o': '1.09173', 'h': '1.09293', 'l': '1.09114', 'c': '1.09203'}},\n",
       "  {'complete': True,\n",
       "   'volume': 8997,\n",
       "   'time': '2023-12-15T15:00:00.000000000Z',\n",
       "   'bid': {'o': '1.09193', 'h': '1.09229', 'l': '1.09043', 'c': '1.09151'},\n",
       "   'mid': {'o': '1.09200', 'h': '1.09236', 'l': '1.09051', 'c': '1.09158'},\n",
       "   'ask': {'o': '1.09207', 'h': '1.09243', 'l': '1.09058', 'c': '1.09165'}},\n",
       "  {'complete': True,\n",
       "   'volume': 6301,\n",
       "   'time': '2023-12-15T16:00:00.000000000Z',\n",
       "   'bid': {'o': '1.09150', 'h': '1.09160', 'l': '1.09009', 'c': '1.09047'},\n",
       "   'mid': {'o': '1.09157', 'h': '1.09168', 'l': '1.09017', 'c': '1.09054'},\n",
       "   'ask': {'o': '1.09164', 'h': '1.09175', 'l': '1.09024', 'c': '1.09062'}},\n",
       "  {'complete': True,\n",
       "   'volume': 4336,\n",
       "   'time': '2023-12-15T17:00:00.000000000Z',\n",
       "   'bid': {'o': '1.09048', 'h': '1.09159', 'l': '1.09037', 'c': '1.09098'},\n",
       "   'mid': {'o': '1.09056', 'h': '1.09166', 'l': '1.09044', 'c': '1.09105'},\n",
       "   'ask': {'o': '1.09064', 'h': '1.09173', 'l': '1.09051', 'c': '1.09112'}},\n",
       "  {'complete': True,\n",
       "   'volume': 5367,\n",
       "   'time': '2023-12-15T18:00:00.000000000Z',\n",
       "   'bid': {'o': '1.09097', 'h': '1.09102', 'l': '1.08879', 'c': '1.08931'},\n",
       "   'mid': {'o': '1.09104', 'h': '1.09109', 'l': '1.08886', 'c': '1.08938'},\n",
       "   'ask': {'o': '1.09111', 'h': '1.09116', 'l': '1.08893', 'c': '1.08946'}},\n",
       "  {'complete': True,\n",
       "   'volume': 4429,\n",
       "   'time': '2023-12-15T19:00:00.000000000Z',\n",
       "   'bid': {'o': '1.08929', 'h': '1.08991', 'l': '1.08890', 'c': '1.08988'},\n",
       "   'mid': {'o': '1.08936', 'h': '1.08998', 'l': '1.08898', 'c': '1.08996'},\n",
       "   'ask': {'o': '1.08943', 'h': '1.09006', 'l': '1.08905', 'c': '1.09004'}},\n",
       "  {'complete': True,\n",
       "   'volume': 3479,\n",
       "   'time': '2023-12-15T20:00:00.000000000Z',\n",
       "   'bid': {'o': '1.08990', 'h': '1.09086', 'l': '1.08933', 'c': '1.08933'},\n",
       "   'mid': {'o': '1.08998', 'h': '1.09094', 'l': '1.08941', 'c': '1.08941'},\n",
       "   'ask': {'o': '1.09005', 'h': '1.09101', 'l': '1.08949', 'c': '1.08949'}},\n",
       "  {'complete': True,\n",
       "   'volume': 2185,\n",
       "   'time': '2023-12-15T21:00:00.000000000Z',\n",
       "   'bid': {'o': '1.08935', 'h': '1.08959', 'l': '1.08914', 'c': '1.08933'},\n",
       "   'mid': {'o': '1.08944', 'h': '1.08968', 'l': '1.08922', 'c': '1.08947'},\n",
       "   'ask': {'o': '1.08952', 'h': '1.08976', 'l': '1.08929', 'c': '1.08961'}}]}"
      ]
     },
     "execution_count": 12,
     "metadata": {},
     "output_type": "execute_result"
    }
   ],
   "source": [
    "response.json()"
   ]
  },
  {
   "cell_type": "code",
   "execution_count": null,
   "metadata": {},
   "outputs": [],
   "source": []
  }
 ],
 "metadata": {
  "kernelspec": {
   "display_name": "Python 3",
   "language": "python",
   "name": "python3"
  },
  "language_info": {
   "codemirror_mode": {
    "name": "ipython",
    "version": 3
   },
   "file_extension": ".py",
   "mimetype": "text/x-python",
   "name": "python",
   "nbconvert_exporter": "python",
   "pygments_lexer": "ipython3",
   "version": "3.10.9"
  }
 },
 "nbformat": 4,
 "nbformat_minor": 2
}
